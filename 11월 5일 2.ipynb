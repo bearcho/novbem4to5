{
 "cells": [
  {
   "cell_type": "markdown",
   "metadata": {},
   "source": [
    "### 1. 라이브러리 블러오기"
   ]
  },
  {
   "cell_type": "code",
   "execution_count": 2,
   "metadata": {},
   "outputs": [],
   "source": [
    "import warnings\n",
    "warnings.filterwarnings(action=\"ignore\")"
   ]
  },
  {
   "cell_type": "code",
   "execution_count": 4,
   "metadata": {},
   "outputs": [],
   "source": [
    "import pandas as pd\n",
    "import numpy as np\n",
    "import cv2\n",
    "import os\n",
    "import matplotlib.pyplot as plt\n",
    "from tensorflow import keras\n",
    "%matplotlib inline"
   ]
  },
  {
   "cell_type": "markdown",
   "metadata": {},
   "source": [
    "### 2. 이미지 전처리"
   ]
  },
  {
   "cell_type": "code",
   "execution_count": 6,
   "metadata": {},
   "outputs": [],
   "source": [
    "def refineImage(testImg):\n",
    "    ## 테스트 이미지 컬러 변경\n",
    "    ## 컬러이미지 -> 회색톤으로 변경\n",
    "    IMG_SIZE = 28\n",
    "    img_gray= cv2.cvtColor(testImg,cv2.COLOR_RGB2GRAY)\n",
    "\n",
    "    ## 사이즈 조정\n",
    "    img_resize = cv2.resize(img_gray,(IMG_SIZE,IMG_SIZE))\n",
    "\n",
    "    ## shape 변경\n",
    "    img_shape = img_resize.reshape(1,IMG_SIZE,IMG_SIZE,1)\n",
    "\n",
    "    img_shape.shape\n",
    "\n",
    "    ## 정규화\n",
    "    img_norm = img_shape/255.0\n",
    "    \n",
    "    return img_norm"
   ]
  },
  {
   "cell_type": "markdown",
   "metadata": {},
   "source": [
    "### 3. 모델 불러오기"
   ]
  },
  {
   "cell_type": "code",
   "execution_count": 7,
   "metadata": {},
   "outputs": [],
   "source": [
    "from tensorflow.keras.models import model_from_json"
   ]
  },
  {
   "cell_type": "code",
   "execution_count": 8,
   "metadata": {},
   "outputs": [],
   "source": [
    "json_file = open(\"d:/model_emotion.json\",\"r\")\n",
    "loaded_model_json = json_file.read()\n",
    "json_file.close()"
   ]
  },
  {
   "cell_type": "code",
   "execution_count": 9,
   "metadata": {},
   "outputs": [],
   "source": [
    "loaded_model = model_from_json(loaded_model_json)"
   ]
  },
  {
   "cell_type": "code",
   "execution_count": 10,
   "metadata": {},
   "outputs": [],
   "source": [
    "loaded_model.load_weights(\"d:\\model_emotion_kopo_weight.h5\")\n",
    "# testImg = cv2.imread(\"d:\\sample_image.PNG\",cv2.IMREAD_COLOR)"
   ]
  },
  {
   "cell_type": "code",
   "execution_count": null,
   "metadata": {},
   "outputs": [],
   "source": []
  },
  {
   "cell_type": "code",
   "execution_count": null,
   "metadata": {},
   "outputs": [],
   "source": []
  },
  {
   "cell_type": "code",
   "execution_count": null,
   "metadata": {},
   "outputs": [],
   "source": []
  },
  {
   "cell_type": "code",
   "execution_count": null,
   "metadata": {},
   "outputs": [],
   "source": [
    "import warnings\n",
    "warnings.filterwarnings(\"ignore\")\n",
    "\n",
    "from keras.models import model_from_json\n",
    "import numpy as np\n",
    "\n",
    "\n",
    "EMOTIONS_LIST = [\"Angry\", \"Disgust\", \"Fear\", \"Happy\",\"Neutral\", \"Sad\", \"Surprise\"]\n",
    "EMOTIONS_LIST2 = [\"Angry\", \"Angry\", \"Fear\", \"Happy\",\"Neutral\", \"Sad\", \"Neutral\"]\n",
    "\n",
    "model_json_file =\"./model3.json\"\n",
    "model_weights_file = \"./model_weights5.h5\"\n",
    "with open(model_json_file, \"r\") as json_file:\n",
    "    loaded_model_json = json_file.read()\n",
    "    loaded_model = model_from_json(loaded_model_json)\n",
    "\n",
    "# load weights into the new model\n",
    "loaded_model.load_weights(model_weights_file)\n",
    "#loaded_model._make_predict_function()"
   ]
  },
  {
   "cell_type": "code",
   "execution_count": null,
   "metadata": {},
   "outputs": [],
   "source": []
  },
  {
   "cell_type": "code",
   "execution_count": null,
   "metadata": {},
   "outputs": [],
   "source": []
  },
  {
   "cell_type": "code",
   "execution_count": 5,
   "metadata": {},
   "outputs": [],
   "source": [
    "import cv2\n",
    "import sys\n",
    "\n",
    "font = cv2.FONT_HERSHEY_SIMPLEX\n",
    "faceCascade = cv2.CascadeClassifier('haarcascade_frontalface_default.xml')\n",
    "\n",
    "video_capture = cv2.VideoCapture(0)\n",
    "\n",
    "# img_counter = 0\n",
    "\n",
    "while video_capture.isOpened:\n",
    "\n",
    "    ret, frame = video_capture.read()\n",
    "    gray = cv2.cvtColor(frame, cv2.COLOR_BGR2GRAY)\n",
    "    k = cv2.waitKey(33)\n",
    "    faces = faceCascade.detectMultiScale(\n",
    "        gray, scaleFactor=1.5, minNeighbors=5,\n",
    "        #         minSize=(30, 30),\n",
    "        flags=cv2.CASCADE_SCALE_IMAGE\n",
    "    )\n",
    "\n",
    "    # 획득 이미지 회색컬러로 변경\n",
    "    gray_fr = cv2.cvtColor(frame, cv2.COLOR_BGR2GRAY)\n",
    "    \n",
    "    # 인식된 얼굴 주위에 사각형 영역 표시\n",
    "    # haar cascading 통해 face 이미지 추출 후 좌표활용)\n",
    "    for (x, y, w, h) in faces:\n",
    "        fc = gray_fr[y:y+h, x:x+w]\n",
    "\n",
    "        # 획득 이미지 크기조절 및 딥러닝 입력 형태로 변환\n",
    "        roi = cv2.resize(fc, (48, 48))\n",
    "        roip = roi.reshape(1,48,48,1)\n",
    "             \n",
    "        # 예측\n",
    "#         predict = loaded_model.predict(roip)\n",
    "        # 예측결과 리턴\n",
    "#         pred = EMOTIONS_LIST2[np.argmax(predict)]\n",
    "        # 예측결과 화면 시연 및 사각형 영역 표시\n",
    "#         cv2.putText(frame, pred, (x, y), font, 1, (255, 255, 0), 2)\n",
    "        cv2.rectangle(frame, (x, y), (x+w, y+h), (0, 255, 0), 2)\n",
    "\n",
    "    # 화면 출력\n",
    "    cv2.namedWindow('Emotion_Detection', cv2.WINDOW_NORMAL)\n",
    "    cv2.imshow('Emotion_Detection', frame)\n",
    "\n",
    "    if k == 27: #ESC Pressed\n",
    "        break\n",
    "#     elif k == 32:\n",
    "#         # SPACE pressed\n",
    "#         img_name = \"facedetect_webcam.png\"\n",
    "#         cv2.imwrite(img_name, frame)\n",
    "        \n",
    "\n",
    "# 종료 후 캡쳐 릴리즈 및 윈도우 종료\n",
    "video_capture.release()\n",
    "cv2.destroyAllWindows()"
   ]
  },
  {
   "cell_type": "code",
   "execution_count": null,
   "metadata": {},
   "outputs": [],
   "source": []
  }
 ],
 "metadata": {
  "kernelspec": {
   "display_name": "Python 3",
   "language": "python",
   "name": "python3"
  },
  "language_info": {
   "codemirror_mode": {
    "name": "ipython",
    "version": 3
   },
   "file_extension": ".py",
   "mimetype": "text/x-python",
   "name": "python",
   "nbconvert_exporter": "python",
   "pygments_lexer": "ipython3",
   "version": "3.7.4"
  }
 },
 "nbformat": 4,
 "nbformat_minor": 2
}
