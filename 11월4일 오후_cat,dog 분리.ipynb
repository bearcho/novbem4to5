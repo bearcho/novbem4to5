{
 "cells": [
  {
   "cell_type": "code",
   "execution_count": 4,
   "metadata": {},
   "outputs": [],
   "source": [
    "import os, shutil\n",
    "org_train_path='../images/cat_dog/input/train/'\n",
    "copy_train_path = '../images/cat_dog/datasets/'"
   ]
  },
  {
   "cell_type": "code",
   "execution_count": 20,
   "metadata": {},
   "outputs": [],
   "source": [
    "##대상 기준 정보\n",
    "category_path=\"cat\"\n",
    "start_num = 10000\n",
    "end_num = 12500\n",
    "train_val_path=\"validation\""
   ]
  },
  {
   "cell_type": "code",
   "execution_count": 22,
   "metadata": {},
   "outputs": [],
   "source": [
    "##수작업 화\n",
    "image_paths=[]\n",
    "for i in range(start_num, end_num):\n",
    "    try:\n",
    "        image_paths.append(os.path.join(org_train_path,category_path+'.'+str(i)+'.jpg'))\n",
    "    except Exception as e:\n",
    "        print(2)\n",
    "        pass\n",
    "    \n",
    "target_copy_paths=os.path.join(copy_train_path, train_val_path,category_path)\n",
    "\n",
    "target_copy_paths\n",
    "\n",
    "# 신규 디렉토리가 존재하지 않으면 생성\n",
    "if not os.path.isdir(target_copy_paths):\n",
    "    os.makedirs(target_copy_paths)\n",
    "\n",
    "for image_path in image_paths:\n",
    "    ## shutil(원본경로, 이동할경로)\n",
    "    shutil.copy(image_path, target_copy_paths)"
   ]
  },
  {
   "cell_type": "code",
   "execution_count": 2,
   "metadata": {},
   "outputs": [],
   "source": [
    "def copy_files(category_path, start_num, end_num, train_val_path):\n",
    "    ## 이동 대상 이미지 파일경로 리스트에 담기\n",
    "    image_paths=[]\n",
    "    for i in range(start_num, end_num):\n",
    "        image_paths.append(os.path.join(org_train_path,category_path+'.'+str(i)+'.jpg'))\n",
    "    ## 이동할 폴더 경로 담기\n",
    "    target_copy_paths=os.path.join(copy_train_path, train_val_path,category_path)\n",
    "    \n",
    "    # 신규 디렉토리가 존재하지 않으면 생성\n",
    "    if not os.path.isdir(target_copy_paths):\n",
    "        os.makedirs(target_copy_paths)\n",
    "    \n",
    "    for image_path in image_paths:\n",
    "        ## shutil(원본경로, 이동할경로)\n",
    "        shutil.copy(image_path, target_copy_paths)\n",
    "        \n",
    "    print('copy job completed')"
   ]
  },
  {
   "cell_type": "code",
   "execution_count": null,
   "metadata": {},
   "outputs": [],
   "source": [
    "## 이동 대상 이미지 파일경로 리스트에 담기\n",
    "image_paths=[]\n",
    "for i in range(start_num, end_num):\n",
    "    image_paths.append(os.path.join(org_train_path,category_path+'.'+str(i)+'.jpg'))\n",
    "## 이동할 폴더 경로 담기\n",
    "target_copy_paths=os.path.join(copy_train_path, train_val_path,category_path)\n",
    "\n",
    "# 신규 디렉토리가 존재하지 않으면 생성\n",
    "if not os.path.isdir(target_copy_paths):\n",
    "    os.makedirs(target_copy_paths)\n",
    "\n",
    "for image_path in image_paths:\n",
    "    ## shutil(원본경로, 이동할경로)\n",
    "    shutil.copy(image_path, target_copy_paths)\n",
    "\n",
    "print('copy job completed')"
   ]
  },
  {
   "cell_type": "code",
   "execution_count": null,
   "metadata": {},
   "outputs": [],
   "source": [
    "copy_files(\"dog\",0,10000,\"train\")\n",
    "copy_files(\"cat\",0,10000,\"train\")"
   ]
  },
  {
   "cell_type": "code",
   "execution_count": null,
   "metadata": {},
   "outputs": [],
   "source": [
    "copy_files(\"dog\",10000,12500,\"validation\")\n",
    "copy_files(\"cat\",10000,12500,\"validation\")"
   ]
  }
 ],
 "metadata": {
  "kernelspec": {
   "display_name": "Python 3",
   "language": "python",
   "name": "python3"
  },
  "language_info": {
   "codemirror_mode": {
    "name": "ipython",
    "version": 3
   },
   "file_extension": ".py",
   "mimetype": "text/x-python",
   "name": "python",
   "nbconvert_exporter": "python",
   "pygments_lexer": "ipython3",
   "version": "3.7.4"
  }
 },
 "nbformat": 4,
 "nbformat_minor": 2
}
