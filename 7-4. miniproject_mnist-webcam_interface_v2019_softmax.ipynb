{
 "cells": [
  {
   "cell_type": "markdown",
   "metadata": {},
   "source": [
    "### 1. 라이브러리 선언"
   ]
  },
  {
   "cell_type": "code",
   "execution_count": 1,
   "metadata": {},
   "outputs": [],
   "source": [
    "import tensorflow as tf\n",
    "import cv2\n",
    "import numpy as np\n",
    "import matplotlib.pyplot as plt\n",
    "%matplotlib inline"
   ]
  },
  {
   "cell_type": "code",
   "execution_count": 13,
   "metadata": {},
   "outputs": [],
   "source": [
    "# 인풋 이미지를 불러와서 (28,28,1 형태로 변경, 합성곱 신경망 활용)\n",
    "def process(img_input):\n",
    "    # 이미지 사이즈 변경\n",
    "    IMG_SIZE = 28\n",
    "    # 그레이컬러 변환 및 사이즈 조절\n",
    "    gray = cv2.cvtColor(img_input, cv2.COLOR_BGR2GRAY)\n",
    "    gray = cv2.resize(gray, (IMG_SIZE, IMG_SIZE))\n",
    "    # 합성곱 신경망 적용을 위한 설정\n",
    "    out_img = gray.reshape(IMG_SIZE,IMG_SIZE,1)\n",
    "    return out_img"
   ]
  },
  {
   "cell_type": "code",
   "execution_count": 4,
   "metadata": {},
   "outputs": [
    {
     "name": "stdout",
     "output_type": "stream",
     "text": [
      "Model: \"sequential_1\"\n",
      "_________________________________________________________________\n",
      "Layer (type)                 Output Shape              Param #   \n",
      "=================================================================\n",
      "conv2d_1 (Conv2D)            (None, 28, 28, 32)        160       \n",
      "_________________________________________________________________\n",
      "max_pooling2d_1 (MaxPooling2 (None, 14, 14, 32)        0         \n",
      "_________________________________________________________________\n",
      "dropout_1 (Dropout)          (None, 14, 14, 32)        0         \n",
      "_________________________________________________________________\n",
      "conv2d_2 (Conv2D)            (None, 14, 14, 32)        4128      \n",
      "_________________________________________________________________\n",
      "max_pooling2d_2 (MaxPooling2 (None, 7, 7, 32)          0         \n",
      "_________________________________________________________________\n",
      "dropout_2 (Dropout)          (None, 7, 7, 32)          0         \n",
      "_________________________________________________________________\n",
      "flatten_1 (Flatten)          (None, 1568)              0         \n",
      "_________________________________________________________________\n",
      "dropout_3 (Dropout)          (None, 1568)              0         \n",
      "_________________________________________________________________\n",
      "dense_1 (Dense)              (None, 10)                15690     \n",
      "=================================================================\n",
      "Total params: 19,978\n",
      "Trainable params: 19,978\n",
      "Non-trainable params: 0\n",
      "_________________________________________________________________\n"
     ]
    }
   ],
   "source": [
    "import json\n",
    "from tensorflow.keras.models import model_from_json\n",
    "\n",
    "with open('model_mnist2.json', 'r') as json_file:\n",
    "    loaded_model = model_from_json(json_file.read())\n",
    "\n",
    "loaded_model.summary()\n",
    "loaded_model.load_weights(\"./model_mnist.h5\")"
   ]
  },
  {
   "cell_type": "code",
   "execution_count": 5,
   "metadata": {},
   "outputs": [],
   "source": [
    "# import numpy as np\n",
    "\n",
    "# import mnist\n",
    "\n",
    "# test = mnist.train_images()\n",
    "\n",
    "# test2 = test[0]\n",
    "\n",
    "# test3 = test2.reshape(1,28,28,1)\n",
    "\n",
    "# test3.shape\n",
    "\n",
    "# test3[np.newaxis,:].shape"
   ]
  },
  {
   "cell_type": "code",
   "execution_count": 8,
   "metadata": {},
   "outputs": [],
   "source": [
    "import pyttsx3\n",
    "engine = pyttsx3.init()\n"
   ]
  },
  {
   "cell_type": "code",
   "execution_count": 12,
   "metadata": {},
   "outputs": [
    {
     "name": "stdout",
     "output_type": "stream",
     "text": [
      "9\n",
      "5\n",
      "9\n",
      "9\n",
      "2\n",
      "5\n",
      "5\n",
      "5\n"
     ]
    }
   ],
   "source": [
    "cap = cv2.VideoCapture(0)\n",
    "width = int(cap.get(cv2.CAP_PROP_FRAME_WIDTH))\n",
    "height = int(cap.get(cv2.CAP_PROP_FRAME_HEIGHT))\n",
    "\n",
    "\n",
    "while(True):\n",
    "\n",
    "    ret, img_color = cap.read()\n",
    "\n",
    "    if ret == False:\n",
    "        break;\n",
    "\n",
    "    img_input = img_color.copy()\n",
    "    cv2.rectangle(img_color, (250, 150),  (width-250, height-150), (0, 0, 255), 3)\n",
    "    cv2.imshow('bgr', img_color)\n",
    "\n",
    "    img_roi = img_input[150:height-150, 250:width-250]\n",
    "\n",
    "\n",
    "    key = cv2.waitKey(1)\n",
    "\n",
    "    if key == 27:\n",
    "        break\n",
    "    elif key == 32:\n",
    "        \n",
    "        cv2.imwrite(\"d:/aaa.jpg\", img_roi)\n",
    "        flatten = process(img_roi)\n",
    "        \n",
    "        predictions = loaded_model.predict(flatten[np.newaxis,:])\n",
    "        answer = str(np.argmax(predictions))\n",
    "        print(np.argmax(predictions))\n",
    "        engine.say(answer)\n",
    "        engine.runAndWait()\n",
    "        cv2.imshow('img_roi', img_roi)\n",
    "        cv2.waitKey(0)\n",
    "\n",
    "\n",
    "cap.release()\n",
    "cv2.destroyAllWindows()"
   ]
  },
  {
   "cell_type": "code",
   "execution_count": 11,
   "metadata": {},
   "outputs": [],
   "source": [
    "cv2.destroyAllWindows()"
   ]
  },
  {
   "cell_type": "code",
   "execution_count": 28,
   "metadata": {},
   "outputs": [],
   "source": [
    "test = cv2.imread(\"../images/mnist/trainingSet/2_two/img_10247.jpg\", cv2.IMREAD_COLOR)\n",
    "\n",
    "# test = cv2.imread(\"d:/aaa.jpg\", cv2.IMREAD_COLOR)\n",
    "\n",
    "test2 = process(test)\n",
    "\n",
    "test3 = test2.reshape(28,28)*255\n",
    "\n",
    "plt.imshow(test3, cmap=\"gray\")\n",
    "\n",
    "np.argmax(loaded_model.predict(test2.reshape(1,28,28,1)))"
   ]
  },
  {
   "cell_type": "code",
   "execution_count": null,
   "metadata": {},
   "outputs": [],
   "source": []
  }
 ],
 "metadata": {
  "kernelspec": {
   "display_name": "Python 3",
   "language": "python",
   "name": "python3"
  },
  "language_info": {
   "codemirror_mode": {
    "name": "ipython",
    "version": 3
   },
   "file_extension": ".py",
   "mimetype": "text/x-python",
   "name": "python",
   "nbconvert_exporter": "python",
   "pygments_lexer": "ipython3",
   "version": "3.6.8"
  }
 },
 "nbformat": 4,
 "nbformat_minor": 2
}
