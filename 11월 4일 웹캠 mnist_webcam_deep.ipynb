{
 "cells": [
  {
   "cell_type": "markdown",
   "metadata": {},
   "source": [
    "### 1. 라이브러리 불러오기"
   ]
  },
  {
   "cell_type": "code",
   "execution_count": 6,
   "metadata": {},
   "outputs": [],
   "source": [
    "import warnings\n",
    "warnings.filterwarnings(action=\"ignore\")"
   ]
  },
  {
   "cell_type": "code",
   "execution_count": 7,
   "metadata": {},
   "outputs": [],
   "source": [
    "import pandas as pd\n",
    "import numpy as np\n",
    "import cv2\n",
    "import os\n",
    "import matplotlib.pyplot as plt\n",
    "from tensorflow import keras\n",
    "%matplotlib inline"
   ]
  },
  {
   "cell_type": "code",
   "execution_count": null,
   "metadata": {},
   "outputs": [],
   "source": []
  },
  {
   "cell_type": "markdown",
   "metadata": {},
   "source": [
    "### 2. 이미지 전처리 함수 생성"
   ]
  },
  {
   "cell_type": "code",
   "execution_count": 19,
   "metadata": {},
   "outputs": [],
   "source": [
    "def refineImage(testImg):\n",
    "    ## 테스트 이미지 컬러 변경\n",
    "    ## 컬러이미지 -> 회색톤으로 변경\n",
    "    IMG_SIZE = 28\n",
    "    img_gray= cv2.cvtColor(testImg,cv2.COLOR_RGB2GRAY)\n",
    "\n",
    "    ## 사이즈 조정\n",
    "    img_resize = cv2.resize(img_gray,(IMG_SIZE,IMG_SIZE))\n",
    "\n",
    "    ## shape 변경\n",
    "    img_shape = img_resize.reshape(1,IMG_SIZE,IMG_SIZE,1)\n",
    "\n",
    "    img_shape.shape\n",
    "\n",
    "    ## 정규화\n",
    "    img_norm = img_shape/255.0\n",
    "    \n",
    "    return img_norm"
   ]
  },
  {
   "cell_type": "code",
   "execution_count": null,
   "metadata": {},
   "outputs": [],
   "source": []
  },
  {
   "cell_type": "markdown",
   "metadata": {},
   "source": [
    "### 3. 모델 불러오기"
   ]
  },
  {
   "cell_type": "code",
   "execution_count": 9,
   "metadata": {},
   "outputs": [],
   "source": [
    "from tensorflow.keras.models import model_from_json"
   ]
  },
  {
   "cell_type": "code",
   "execution_count": 11,
   "metadata": {},
   "outputs": [],
   "source": [
    "json_file = open(\"d:/model.json\",\"r\")\n",
    "loaded_model_json = json_file.read()\n",
    "json_file.close()"
   ]
  },
  {
   "cell_type": "code",
   "execution_count": 14,
   "metadata": {},
   "outputs": [],
   "source": [
    "loaded_model = model_from_json(loaded_model_json)"
   ]
  },
  {
   "cell_type": "code",
   "execution_count": 15,
   "metadata": {},
   "outputs": [],
   "source": [
    "loaded_model.load_weights(\"d:\\model_mnist_kopo_weight.h5\")"
   ]
  },
  {
   "cell_type": "code",
   "execution_count": 16,
   "metadata": {},
   "outputs": [],
   "source": [
    "testImg = cv2.imread(\"d:\\sample_image.PNG\",cv2.IMREAD_COLOR)"
   ]
  },
  {
   "cell_type": "code",
   "execution_count": 20,
   "metadata": {},
   "outputs": [],
   "source": [
    "outimg = refineImage(testImg)"
   ]
  },
  {
   "cell_type": "code",
   "execution_count": 21,
   "metadata": {},
   "outputs": [
    {
     "data": {
      "text/plain": [
       "5"
      ]
     },
     "execution_count": 21,
     "metadata": {},
     "output_type": "execute_result"
    }
   ],
   "source": [
    "np.argmax(loaded_model.predict(outimg))"
   ]
  },
  {
   "cell_type": "code",
   "execution_count": 22,
   "metadata": {},
   "outputs": [
    {
     "data": {
      "text/plain": [
       "(1, 28, 28, 1)"
      ]
     },
     "execution_count": 22,
     "metadata": {},
     "output_type": "execute_result"
    }
   ],
   "source": [
    "outimg.shape"
   ]
  },
  {
   "cell_type": "markdown",
   "metadata": {},
   "source": [
    "### 4. 이미지 캡쳐(비디오 캡쳐)"
   ]
  },
  {
   "cell_type": "code",
   "execution_count": 37,
   "metadata": {},
   "outputs": [
    {
     "name": "stdout",
     "output_type": "stream",
     "text": [
      "0\n",
      "1\n",
      "8\n"
     ]
    }
   ],
   "source": [
    "cap = cv2.VideoCapture(0)\n",
    "width = int(cap.get (cv2.CAP_PROP_FRAME_WIDTH))\n",
    "height = int(cap.get (cv2.CAP_PROP_FRAME_HEIGHT))\n",
    "CAP_SIZE = 150\n",
    "while(True):\n",
    "    ret,frame = cap.read()\n",
    "    if ret == False:\n",
    "        break;\n",
    "    \n",
    "    x1 = int(width  /2 - CAP_SIZE/2)\n",
    "    y1 = int(height /2 - CAP_SIZE/2)\n",
    "    x2 = x1 + CAP_SIZE\n",
    "    y2 = y1 + CAP_SIZE\n",
    "    \n",
    "#     cv2.imshow('color_frame', frame)\n",
    "    key = cv2.waitKey(33)\n",
    "    frame2 = cv2.rectangle(frame, (x1,y1), (x2,y2),(0,0,255),2)\n",
    "    rectImage = frame2[y1:y1 + CAP_SIZE, x1:x1 + CAP_SIZE]\n",
    "    outframe = refineImage(rectImage)\n",
    "    predictValue = np.argmax(loaded_model.predict(outframe))\n",
    "    \n",
    "    cv2.putText(frame2,\n",
    "               str(predictValue),\n",
    "                (x1,y1-10),\n",
    "                cv2.FONT_HERSHEY_SIMPLEX,\n",
    "                1,\n",
    "                (0,255,255)\n",
    "               )\n",
    "    \n",
    "    cv2.imshow('color_frame', frame2)\n",
    "    \n",
    "    if key==27:\n",
    "        # esc key\n",
    "        cap.release()\n",
    "        cv2.destroyAllWindows()\n",
    "    \n",
    "    elif key==32:\n",
    "        rectImage = frame2[y1:y1 + CAP_SIZE, x1:x1 + CAP_SIZE]\n",
    "        # space bar key\n",
    "        outframe = refineImage(rectImage)\n",
    "        predictValue = np.argmax(loaded_model.predict(outframe))\n",
    "        print(predictValue)\n",
    "#         cv2.imwrite(\"d:/capture_frame_images.jpg\", frame )\n",
    "#         cv2.imwrite(\"d:/capture_frame2_images.jpg\", frame2 )\n",
    "        cv2.imwrite(\"d:/capture_rec_images.jpg\", rectImage )\n",
    "        \n",
    "cap.release()\n",
    "cv2.destroyAllWindows()"
   ]
  },
  {
   "cell_type": "markdown",
   "metadata": {},
   "source": [
    "### 5. 영역 설정"
   ]
  },
  {
   "cell_type": "code",
   "execution_count": null,
   "metadata": {},
   "outputs": [],
   "source": []
  },
  {
   "cell_type": "code",
   "execution_count": null,
   "metadata": {},
   "outputs": [],
   "source": []
  },
  {
   "cell_type": "markdown",
   "metadata": {},
   "source": [
    "### 6. 예측"
   ]
  },
  {
   "cell_type": "code",
   "execution_count": null,
   "metadata": {},
   "outputs": [],
   "source": []
  },
  {
   "cell_type": "code",
   "execution_count": null,
   "metadata": {},
   "outputs": [],
   "source": []
  }
 ],
 "metadata": {
  "kernelspec": {
   "display_name": "Python 3",
   "language": "python",
   "name": "python3"
  },
  "language_info": {
   "codemirror_mode": {
    "name": "ipython",
    "version": 3
   },
   "file_extension": ".py",
   "mimetype": "text/x-python",
   "name": "python",
   "nbconvert_exporter": "python",
   "pygments_lexer": "ipython3",
   "version": "3.7.4"
  }
 },
 "nbformat": 4,
 "nbformat_minor": 2
}
