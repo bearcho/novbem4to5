{
 "cells": [
  {
   "cell_type": "code",
   "execution_count": 1,
   "metadata": {
    "scrolled": true
   },
   "outputs": [
    {
     "data": {
      "text/plain": [
       "[name: \"/device:CPU:0\"\n",
       " device_type: \"CPU\"\n",
       " memory_limit: 268435456\n",
       " locality {\n",
       " }\n",
       " incarnation: 6138599266801057811]"
      ]
     },
     "execution_count": 1,
     "metadata": {},
     "output_type": "execute_result"
    }
   ],
   "source": [
    "from tensorflow.python.client import device_lib\n",
    "\n",
    "device_lib.list_local_devices()"
   ]
  },
  {
   "cell_type": "code",
   "execution_count": 2,
   "metadata": {},
   "outputs": [],
   "source": [
    "import os\n",
    "os.environ[\"CUDA_VISIBLE_DEVICES\"]='1'"
   ]
  },
  {
   "cell_type": "markdown",
   "metadata": {},
   "source": [
    "# 1. 훈련데이터 준비 (데이터 분리)"
   ]
  },
  {
   "cell_type": "code",
   "execution_count": 3,
   "metadata": {},
   "outputs": [],
   "source": [
    "# import os, shutil\n",
    "\n",
    "# org_train_path='../images/cat_dog/input/train'\n",
    "# copy_train_path = '../images/cat_dog/datasets'"
   ]
  },
  {
   "cell_type": "code",
   "execution_count": 4,
   "metadata": {},
   "outputs": [],
   "source": [
    "# def copy_files(category_path, start_num, end_num, train_val_path):\n",
    "#     ## 이동 대상 이미지 파일경로 리스트에 담기\n",
    "#     image_paths=[]\n",
    "#     for i in range(start_num, end_num):\n",
    "#         image_paths.append(os.path.join(org_train_path,category_path+'.'+str(i)+'.jpg'))\n",
    "#     ## 이동할 폴더 경로 담기\n",
    "#     target_copy_paths=os.path.join(copy_train_path, train_val_path,category_path)\n",
    "    \n",
    "#     # 신규 디렉토리가 존재하지 않으면 생성\n",
    "#     if not os.path.isdir(target_copy_paths):\n",
    "#         os.makedirs(target_copy_paths)\n",
    "    \n",
    "#     for image_path in image_paths:\n",
    "#         ## shutil(원본경로, 이동할경로)\n",
    "#         shutil.copy(image_path, target_copy_paths)\n",
    "        \n",
    "#     print('copy job completed')"
   ]
  },
  {
   "cell_type": "code",
   "execution_count": 5,
   "metadata": {},
   "outputs": [],
   "source": [
    "# copy_files(\"dog\",0,10000,\"train\")\n",
    "# copy_files(\"cat\",0,10000,\"train\")"
   ]
  },
  {
   "cell_type": "code",
   "execution_count": 6,
   "metadata": {},
   "outputs": [],
   "source": [
    "# copy_files(\"dog\",1000,1250,\"validation\")\n",
    "# copy_files(\"cat\",1000,1250,\"validation\")"
   ]
  },
  {
   "cell_type": "code",
   "execution_count": 7,
   "metadata": {},
   "outputs": [
    {
     "name": "stdout",
     "output_type": "stream",
     "text": [
      "훈련데이터 dog 개수 10000\n",
      "훈련데이터 cat 개수 10000\n",
      "테스트데이터 dog 개수 250\n",
      "테스트데이터 cat 개수 250\n"
     ]
    }
   ],
   "source": [
    "import os, shutil\n",
    "print(\"훈련데이터 dog 개수\", \n",
    "      len(os.listdir('../images/cat_dog/datasets/train/dog')))\n",
    "print(\"훈련데이터 cat 개수\", \n",
    "      len(os.listdir('../images/cat_dog/datasets/train/cat')))\n",
    "print(\"테스트데이터 dog 개수\", \n",
    "      len(os.listdir('../images/cat_dog/datasets/validation/dog')))\n",
    "print(\"테스트데이터 cat 개수\", \n",
    "      len(os.listdir('../images/cat_dog/datasets/validation/dog')))"
   ]
  },
  {
   "cell_type": "markdown",
   "metadata": {},
   "source": [
    "# 2. 데이터 준비 (훈련/검증)"
   ]
  },
  {
   "cell_type": "code",
   "execution_count": 8,
   "metadata": {},
   "outputs": [],
   "source": [
    "IMG_SIZE = 50\n",
    "\n",
    "from numpy import array\n",
    "import cv2\n",
    "\n",
    "TRAIN_DIR = '../images/cat_dog/datasets/train/'\n",
    "train_folder_list = array(os.listdir(TRAIN_DIR))\n",
    "train_folder_list\n",
    "\n",
    "train_images=[]\n",
    "train_labels=[]\n",
    "for index in range(len(train_folder_list)):\n",
    "    path = os.path.join(TRAIN_DIR, train_folder_list[index])\n",
    "    path = path + '/'\n",
    "    img_list = os.listdir(path)\n",
    "    for img in img_list:\n",
    "        img_path = os.path.join(path, img)\n",
    "        try:\n",
    "            img = cv2.imread(img_path, cv2.IMREAD_GRAYSCALE)\n",
    "            new_img = cv2.resize(img, (IMG_SIZE, IMG_SIZE))\n",
    "            train_images.append(new_img)\n",
    "            train_labels.append(index)\n",
    "        except Exception as e:\n",
    "            print(e)\n",
    "            pass"
   ]
  },
  {
   "cell_type": "code",
   "execution_count": 9,
   "metadata": {},
   "outputs": [],
   "source": [
    "VAR_DIR = '../images/cat_dog/datasets/validation/'\n",
    "val_folder_list = array(os.listdir(VAR_DIR))\n",
    "val_folder_list\n",
    "\n",
    "val_images=[]\n",
    "val_labels=[]\n",
    "for index in range(len(val_folder_list)):\n",
    "    path = os.path.join(VAR_DIR, val_folder_list[index])\n",
    "    path = path + '/'\n",
    "    img_list = os.listdir(path)\n",
    "    for img in img_list:\n",
    "        img_path = os.path.join(path, img)\n",
    "        try:\n",
    "            img = cv2.imread(img_path, cv2.IMREAD_GRAYSCALE)\n",
    "            new_img = cv2.resize(img, (IMG_SIZE, IMG_SIZE))\n",
    "            val_images.append(new_img)\n",
    "            val_labels.append(index)\n",
    "        except Exception as e:\n",
    "            print(e)\n",
    "            pass"
   ]
  },
  {
   "cell_type": "markdown",
   "metadata": {},
   "source": [
    "# 3. 데이터 전처리"
   ]
  },
  {
   "cell_type": "code",
   "execution_count": 10,
   "metadata": {},
   "outputs": [
    {
     "name": "stdout",
     "output_type": "stream",
     "text": [
      "(20000, 50, 50, 1)\n",
      "(20000,)\n",
      "(500, 50, 50, 1)\n",
      "(500,)\n"
     ]
    },
    {
     "data": {
      "image/png": "[encoded data removed]",
      "text/plain": [
       "<Figure size 432x288 with 1 Axes>"
      ]
     },
     "metadata": {
      "needs_background": "light"
     },
     "output_type": "display_data"
    }
   ],
   "source": [
    "train_data = array(train_images)\n",
    "train_label = array(train_labels)\n",
    "val_data = array(val_images)\n",
    "val_label = array(val_labels)\n",
    "\n",
    "import matplotlib.pyplot as plt\n",
    "%matplotlib inline\n",
    "\n",
    "plt.imshow(train_data[0], cmap=\"gray\")\n",
    "\n",
    "trainingData_features = train_data/255\n",
    "trainingData_label = train_label\n",
    "\n",
    "valData_features = val_data/255\n",
    "val_label = val_label\n",
    "\n",
    "trainingData_features = trainingData_features.reshape(len(trainingData_features),IMG_SIZE,IMG_SIZE,1)\n",
    "\n",
    "valData_features = valData_features.reshape(len(valData_features),IMG_SIZE,IMG_SIZE,1)\n",
    "\n",
    "print(trainingData_features.shape)\n",
    "print(trainingData_label.shape)\n",
    "print(valData_features.shape)\n",
    "print(val_label.shape)"
   ]
  },
  {
   "cell_type": "markdown",
   "metadata": {},
   "source": [
    "### 2. 모델생성"
   ]
  },
  {
   "cell_type": "code",
   "execution_count": 11,
   "metadata": {},
   "outputs": [
    {
     "name": "stderr",
     "output_type": "stream",
     "text": [
      "Using TensorFlow backend.\n",
      "WARNING: Logging before flag parsing goes to stderr.\n",
      "W1003 21:01:16.879888  7264 deprecation_wrapper.py:119] From C:\\Users\\kopo\\Anaconda3\\lib\\site-packages\\keras\\backend\\tensorflow_backend.py:4070: The name tf.nn.max_pool is deprecated. Please use tf.nn.max_pool2d instead.\n",
      "\n",
      "W1003 21:01:16.972640  7264 deprecation.py:323] From C:\\Users\\kopo\\Anaconda3\\lib\\site-packages\\tensorflow\\python\\ops\\nn_impl.py:180: add_dispatch_support.<locals>.wrapper (from tensorflow.python.ops.array_ops) is deprecated and will be removed in a future version.\n",
      "Instructions for updating:\n",
      "Use tf.where in 2.0, which has the same broadcast rule as np.where\n"
     ]
    }
   ],
   "source": [
    "from keras import Input\n",
    "from keras import Sequential\n",
    "from keras import layers, losses, optimizers\n",
    "from keras.layers import Dense, Input, Flatten, Conv2D, Activation, MaxPooling2D\n",
    "\n",
    "nclasses = 1\n",
    "input_shape = (IMG_SIZE, IMG_SIZE, 1)\n",
    "\n",
    "model=Sequential()\n",
    "\n",
    "# window = 3,3\n",
    "model.add(Conv2D(64, (3,3), input_shape = input_shape))\n",
    "model.add(Activation(\"relu\"))\n",
    "model.add(MaxPooling2D(pool_size=(2,2)))\n",
    "\n",
    "model.add(Conv2D(64, (3,3)))\n",
    "model.add(Activation(\"relu\"))\n",
    "model.add(MaxPooling2D(pool_size=(2,2)))\n",
    "\n",
    "# 64 node cv\n",
    "model.add(Flatten())\n",
    "model.add(Dense(64))\n",
    "\n",
    "model.add(Dense(1))\n",
    "model.add(Activation('sigmoid'))\n",
    "\n",
    "model.compile(loss=\"binary_crossentropy\",\n",
    "             optimizer=\"adam\",\n",
    "             metrics=[\"accuracy\"])"
   ]
  },
  {
   "cell_type": "code",
   "execution_count": 12,
   "metadata": {},
   "outputs": [],
   "source": [
    "from datetime import datetime\n",
    "import os\n",
    "import keras\n",
    "\n",
    "now = datetime.now()\n",
    "\n",
    "currDate = now.strftime(\"%Y_%m_%d_%H_%M\")\n",
    "\n",
    "save_tdir = \"d:/tlog_{}\".format(currDate)\n",
    "save_tdir\n",
    "\n",
    "save_wdir = \"d:/wlog_{}\".format(currDate)\n",
    "save_wdir\n",
    "\n",
    "callbacks = [\n",
    "    \n",
    "    keras.callbacks.TensorBoard(\n",
    "     log_dir = save_tdir,\n",
    "    write_graph=True,\n",
    "    write_images=True),\n",
    "    \n",
    "    keras.callbacks.EarlyStopping(\n",
    "    monitor = 'val_acc', patience=10,\n",
    "    ),\n",
    "    \n",
    "    keras.callbacks.ModelCheckpoint(\n",
    "    filepath = save_wdir,\n",
    "    monitor = 'val_loss',\n",
    "    save_best_only = True,)\n",
    "    \n",
    "]"
   ]
  },
  {
   "cell_type": "code",
   "execution_count": 13,
   "metadata": {
    "scrolled": true
   },
   "outputs": [
    {
     "name": "stderr",
     "output_type": "stream",
     "text": [
      "W1003 21:01:20.670794  7264 deprecation_wrapper.py:119] From C:\\Users\\kopo\\Anaconda3\\lib\\site-packages\\keras\\backend\\tensorflow_backend.py:422: The name tf.global_variables is deprecated. Please use tf.compat.v1.global_variables instead.\n",
      "\n",
      "W1003 21:01:20.677777  7264 deprecation_wrapper.py:119] From C:\\Users\\kopo\\Anaconda3\\lib\\site-packages\\keras\\callbacks\\tensorboard_v1.py:200: The name tf.summary.merge_all is deprecated. Please use tf.compat.v1.summary.merge_all instead.\n",
      "\n",
      "W1003 21:01:20.678774  7264 deprecation_wrapper.py:119] From C:\\Users\\kopo\\Anaconda3\\lib\\site-packages\\keras\\callbacks\\tensorboard_v1.py:203: The name tf.summary.FileWriter is deprecated. Please use tf.compat.v1.summary.FileWriter instead.\n",
      "\n"
     ]
    },
    {
     "name": "stdout",
     "output_type": "stream",
     "text": [
      "Train on 20000 samples, validate on 500 samples\n",
      "Epoch 1/1\n",
      "20000/20000 [==============================] - 74s 4ms/step - loss: 0.6434 - accuracy: 0.6262 - val_loss: 0.5491 - val_accuracy: 0.7260\n"
     ]
    },
    {
     "name": "stderr",
     "output_type": "stream",
     "text": [
      "W1003 21:02:35.274018  7264 deprecation_wrapper.py:119] From C:\\Users\\kopo\\Anaconda3\\lib\\site-packages\\keras\\callbacks\\tensorboard_v1.py:343: The name tf.Summary is deprecated. Please use tf.compat.v1.Summary instead.\n",
      "\n",
      "C:\\Users\\kopo\\Anaconda3\\lib\\site-packages\\keras\\callbacks\\callbacks.py:846: RuntimeWarning: Early stopping conditioned on metric `val_acc` which is not available. Available metrics are: val_loss,val_accuracy,loss,accuracy\n",
      "  (self.monitor, ','.join(list(logs.keys()))), RuntimeWarning\n"
     ]
    }
   ],
   "source": [
    "history = model.fit(trainingData_features, trainingData_label,\n",
    "                                     batch_size=16,\n",
    "                                     epochs=1, validation_data = (valData_features,val_label),\n",
    "                                     callbacks = callbacks)"
   ]
  },
  {
   "cell_type": "markdown",
   "metadata": {},
   "source": [
    "# 예측"
   ]
  },
  {
   "cell_type": "code",
   "execution_count": 23,
   "metadata": {},
   "outputs": [],
   "source": [
    "test_image_path = '../images/cat_dog/input/test'\n",
    "\n",
    "list_imgs= os.listdir(test_image_path) \n",
    "\n",
    "sort_imgs_num = [i+1 for i in range(len(list_imgs))] #1.jpg부터 시작\n",
    "len(sort_imgs_num)\n",
    "\n",
    "test_image = [] \n",
    "for imgs in sort_imgs_num: \n",
    "    img_path = os.path.join(test_image_path,str(imgs)+'.jpg') #원하는 목록리스트를 만듭니다.\n",
    "    img = cv2.imread(img_path, cv2.IMREAD_GRAYSCALE)\n",
    "    new_img = cv2.resize(img, (IMG_SIZE, IMG_SIZE))\n",
    "    test_image.append(new_img) #변환된 데이터를 리스트에 저장합니다. \n",
    "\n",
    "image_array = np.array(test_image)\n",
    "\n",
    "print(\"이미지 모양확인\", image_array.shape)"
   ]
  },
  {
   "cell_type": "code",
   "execution_count": 37,
   "metadata": {},
   "outputs": [],
   "source": [
    "finalImg = image_array.reshape(len(image_array),IMG_SIZE,IMG_SIZE, 1)\n",
    "\n",
    "print(\"이미지 모양확인\", finalImg.shape)\n",
    "\n",
    "predictions = model.predict(finalImg)"
   ]
  },
  {
   "cell_type": "code",
   "execution_count": 41,
   "metadata": {},
   "outputs": [],
   "source": [
    "import matplotlib.pyplot as plt\n",
    "%matplotlib inline\n",
    "\n",
    "def plot_data(X, y, num_figures): \n",
    "    plt.figure(figsize=(30, 20)) \n",
    "    for i in range(num_figures): \n",
    "        plt.subplot(2, num_figures, i+1) \n",
    "        plt.imshow(X[i]) \n",
    "        if y[i] >= 0.5: \n",
    "            plt.title(\"Dog (\"+ str(y[i]) + \")\", fontsize=30) \n",
    "        else: \n",
    "            plt.title(\"Cat (\"+ str(y[i]) + \")\", fontsize=30) \n",
    "        plt.tight_layout()\n",
    "\n",
    "for i in range(0, 30, 6): \n",
    "    plot_data(test_image[i:], predictions[i:], 6)"
   ]
  },
  {
   "cell_type": "code",
   "execution_count": 44,
   "metadata": {},
   "outputs": [
    {
     "name": "stdout",
     "output_type": "stream",
     "text": [
      "Mission Completed\n"
     ]
    }
   ],
   "source": [
    "import os, shutil \n",
    "test_image_path = '../images/cat_dog/input/test' \n",
    "copy_testImage_path = '../images/cat_dog/output/test' #str(i+1) 이유는 테스트사진이 1.jpg 부터 시작 \n",
    "def test_copy_files(prefix_str,i): \n",
    "    image_paths = os.path.join(test_image_path ,str(i+1)+'.jpg') \n",
    "    data_dir = os.path.join(copy_testImage_path,prefix_str) \n",
    "    if not os.path.isdir(data_dir): \n",
    "        os.makedirs(data_dir) \n",
    "    shutil.copy(image_paths,data_dir) \n",
    "# 사진 자동 분류하기 \n",
    "for i in range(len(predictions)): \n",
    "    img = predictions[i] \n",
    "    if img >= 0.5: \n",
    "        test_copy_files(\"dog\",i) \n",
    "    else: \n",
    "        test_copy_files(\"cat\",i) \n",
    "print(\"Mission Completed\")"
   ]
  },
  {
   "cell_type": "code",
   "execution_count": null,
   "metadata": {},
   "outputs": [],
   "source": []
  }
 ],
 "metadata": {
  "kernelspec": {
   "display_name": "Python 3",
   "language": "python",
   "name": "python3"
  },
  "language_info": {
   "codemirror_mode": {
    "name": "ipython",
    "version": 3
   },
   "file_extension": ".py",
   "mimetype": "text/x-python",
   "name": "python",
   "nbconvert_exporter": "python",
   "pygments_lexer": "ipython3",
   "version": "3.6.8"
  }
 },
 "nbformat": 4,
 "nbformat_minor": 2
}
